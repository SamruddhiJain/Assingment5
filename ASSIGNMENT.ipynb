{
 "cells": [
  {
   "cell_type": "code",
   "execution_count": 3,
   "id": "724dd297",
   "metadata": {},
   "outputs": [
    {
     "name": "stdout",
     "output_type": "stream",
     "text": [
      "Enter the value of x: 1\n",
      "Enter the value of y: 3\n",
      "Enter the value of z: 5\n",
      "Method Output: 35\n"
     ]
    }
   ],
   "source": [
    "\n",
    "#CHALLENGE 1\n",
    "class Point:\n",
    "    def __init__(self,x=int(input(\"Enter the value of x: \")),y=int(input(\"Enter the value of y: \")),z=int(input(\"Enter the value of z: \"))):\n",
    "        self.x = x\n",
    "        self.y = y\n",
    "        self.z = z\n",
    "\n",
    "    def sqSum(self):\n",
    "        return self.x**2+self.y**2+self.z**2\n",
    "\n",
    "point=Point()\n",
    "result=point.sqSum()\n",
    "print(\"Method Output:\",result)"
   ]
  },
  {
   "cell_type": "code",
   "execution_count": 8,
   "id": "74d104ba",
   "metadata": {},
   "outputs": [
    {
     "name": "stdout",
     "output_type": "stream",
     "text": [
      "104\n",
      "84\n",
      "940\n",
      "9.4\n"
     ]
    }
   ],
   "source": [
    "#CHALLENGE 2\n",
    "class Calculator:\n",
    "    def __init__(self,num,num1):\n",
    "        self.num=num\n",
    "        self.num1=num1\n",
    "    def add(self):\n",
    "        return self.num+self.num1\n",
    "    def sub(self):\n",
    "        return self.num1-self.num\n",
    "    def multi(self):\n",
    "        return self.num*self.num1\n",
    "    def divide(self):\n",
    "        return self.num1/self.num\n",
    "obj= Calculator(10,94)\n",
    "print(obj.add())\n",
    "print(obj.sub())\n",
    "print(obj.multi())\n",
    "print(obj.divide())\n",
    "\n",
    "    \n",
    "    \n",
    "        "
   ]
  },
  {
   "cell_type": "code",
   "execution_count": 21,
   "id": "a973ab14",
   "metadata": {},
   "outputs": [],
   "source": [
    "#CHALLENGE 3\n",
    "class Stud:\n",
    "    def setName(self,name):\n",
    "        self.__name=name\n",
    "    def getName(self):\n",
    "        return self.__name\n",
    "    def setRollnumber(self,rollnumber):\n",
    "        self.__rollnumber=rollnumber\n",
    "    def getRollnumber(self):\n",
    "        return self.__rollnumber\n"
   ]
  },
  {
   "cell_type": "code",
   "execution_count": 22,
   "id": "03c65e40",
   "metadata": {},
   "outputs": [
    {
     "name": "stdout",
     "output_type": "stream",
     "text": [
      "Name :  Samruddhi Jain\n",
      "Roll number :  35\n"
     ]
    }
   ],
   "source": [
    "student=Stud()\n",
    "student.setName(\"Samruddhi Jain\")\n",
    "name=student.getName()\n",
    "\n",
    "student.setRollnumber(35)\n",
    "rollnumber=student.getRollnumber()\n",
    "\n",
    "print(\"Name : \",name)\n",
    "print(\"Roll number : \",rollnumber)\n"
   ]
  },
  {
   "cell_type": "code",
   "execution_count": 23,
   "id": "18744d5e",
   "metadata": {},
   "outputs": [],
   "source": [
    "#CHALLENGE 4\n",
    "class Acc:\n",
    "    def __init__(self,title=None,bal=0):\n",
    "        self.title=title\n",
    "        self.bal=bal\n",
    "\n",
    "        \n",
    "class SavingAcc():\n",
    "    def __init__(self,title=None,bal=0,interest=0):\n",
    "        super().__init__(title,bal)\n",
    "        self.interest=interest\n",
    "        "
   ]
  },
  {
   "cell_type": "code",
   "execution_count": 24,
   "id": "14dfe2f4",
   "metadata": {},
   "outputs": [
    {
     "name": "stdout",
     "output_type": "stream",
     "text": [
      "Samruddhi Jain\n",
      "2000\n"
     ]
    }
   ],
   "source": [
    "accnt=Acc(\"Samruddhi Jain\",2000)\n",
    "print(accnt.title)\n",
    "print(accnt.bal)"
   ]
  },
  {
   "cell_type": "code",
   "execution_count": 25,
   "id": "ca060b2c",
   "metadata": {},
   "outputs": [],
   "source": [
    "#CHALLENGE 5\n",
    "class Accnt:\n",
    "    def __init__(self,title=None,bal=0):\n",
    "        self.title=title\n",
    "        self.bal=bal\n",
    "    def withdraw(self,amount):\n",
    "        self.bal-=amount\n",
    "    def deposit(self,amount):\n",
    "        self.bal+=amount\n",
    "    def getbal(self):\n",
    "        return self.bal\n",
    "    \n",
    "class SavingAcc(Accnt):\n",
    "    def __init__(self,title=None,bal=0,interest=0):\n",
    "        super().__init__(title,bal)\n",
    "        self.interest=interest\n",
    "    def intersetAmount(self):\n",
    "        return(self.interest*self.bal)/100\n",
    "    "
   ]
  },
  {
   "cell_type": "code",
   "execution_count": 30,
   "id": "297d5442",
   "metadata": {},
   "outputs": [
    {
     "name": "stdout",
     "output_type": "stream",
     "text": [
      "1500\n"
     ]
    }
   ],
   "source": [
    "acnt=SavingAcc(\"Jermiah\",2000,5)\n",
    "acnt.withdraw(500)\n",
    "print(acnt.getbal())"
   ]
  },
  {
   "cell_type": "code",
   "execution_count": 31,
   "id": "c4359ae7",
   "metadata": {},
   "outputs": [
    {
     "name": "stdout",
     "output_type": "stream",
     "text": [
      "2500\n"
     ]
    }
   ],
   "source": [
    "acnt=SavingAcc(\"Jermiah\",2000,5)\n",
    "acnt.deposit(500)\n",
    "print(acnt.getbal())"
   ]
  },
  {
   "cell_type": "code",
   "execution_count": 34,
   "id": "b4f98369",
   "metadata": {},
   "outputs": [
    {
     "name": "stdout",
     "output_type": "stream",
     "text": [
      "100.0\n"
     ]
    }
   ],
   "source": [
    "acnt=SavingAcc(\"Jermiah\",2000,5)\n",
    "print(acnt.intersetAmount())"
   ]
  },
  {
   "cell_type": "code",
   "execution_count": null,
   "id": "a05b9f49",
   "metadata": {},
   "outputs": [],
   "source": []
  }
 ],
 "metadata": {
  "kernelspec": {
   "display_name": "Python 3 (ipykernel)",
   "language": "python",
   "name": "python3"
  },
  "language_info": {
   "codemirror_mode": {
    "name": "ipython",
    "version": 3
   },
   "file_extension": ".py",
   "mimetype": "text/x-python",
   "name": "python",
   "nbconvert_exporter": "python",
   "pygments_lexer": "ipython3",
   "version": "3.10.9"
  }
 },
 "nbformat": 4,
 "nbformat_minor": 5
}
